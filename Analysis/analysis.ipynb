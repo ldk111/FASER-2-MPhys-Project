{
 "cells": [
  {
   "cell_type": "code",
   "execution_count": 15,
   "metadata": {},
   "outputs": [],
   "source": [
    "import numpy as np \n",
    "import pandas as pd \n",
    "import offset_analysis as a"
   ]
  },
  {
   "cell_type": "code",
   "execution_count": 17,
   "metadata": {},
   "outputs": [],
   "source": [
    "n_samples = 1\n",
    "input_dir = \"C:/Users/luke/OneDrive/Documents/MPhys Project/Output Files/y_2_05_offset_test/\"\n",
    "\n",
    "offsets_y = np.loadtxt(input_dir + \"offsets_test_y.csv\", delimiter = \",\")\n",
    "offsets_z = np.loadtxt(input_dir + \"offsets_test_z.csv\", delimiter = \",\")"
   ]
  },
  {
   "cell_type": "code",
   "execution_count": 18,
   "metadata": {},
   "outputs": [
    {
     "name": "stdout",
     "output_type": "stream",
     "text": [
      "OFFSET RECONSTRUCTION SUMMARY FOR TRACKING PLANE 1\n",
      "\n",
      "Y AXIS\n",
      "PREDICTED OFFSET: 0.0\n",
      "TRUE OFFSET: -0.0\n",
      "RESIDUAL: 0.0\n",
      "PERCENTAGE DIFFERENCE: nan\n",
      "\n",
      "Z AXIS\n",
      "PREDICTED OFFSET: 0.0\n",
      "RESIDUAL: 0.0\n",
      "PERCENTAGE DIFFERENCE: nan\n",
      "\n",
      "\n",
      "OFFSET RECONSTRUCTION SUMMARY FOR TRACKING PLANE 2\n",
      "\n",
      "Y AXIS\n",
      "PREDICTED OFFSET: -0.04993509562377971\n",
      "TRUE OFFSET: -0.05\n",
      "RESIDUAL: -6.490437622029555e-05\n",
      "PERCENTAGE DIFFERENCE: -0.1298087524405911\n",
      "\n",
      "Z AXIS\n",
      "PREDICTED OFFSET: -0.0029312411714433936\n",
      "RESIDUAL: 0.0029312411714433936\n",
      "PERCENTAGE DIFFERENCE: nan\n",
      "\n",
      "\n",
      "OFFSET RECONSTRUCTION SUMMARY FOR TRACKING PLANE 3\n",
      "\n",
      "Y AXIS\n",
      "PREDICTED OFFSET: -0.0027343691688305007\n",
      "TRUE OFFSET: -0.0\n",
      "RESIDUAL: 0.0027343691688305007\n",
      "PERCENTAGE DIFFERENCE: nan\n",
      "\n",
      "Z AXIS\n",
      "PREDICTED OFFSET: -0.0033724718101562166\n",
      "RESIDUAL: 0.0033724718101562166\n",
      "PERCENTAGE DIFFERENCE: nan\n",
      "\n",
      "\n",
      "OFFSET RECONSTRUCTION SUMMARY FOR TRACKING PLANE 4\n",
      "\n",
      "Y AXIS\n",
      "PREDICTED OFFSET: 0.0\n",
      "TRUE OFFSET: -0.0\n",
      "RESIDUAL: 0.0\n",
      "PERCENTAGE DIFFERENCE: nan\n",
      "\n",
      "Z AXIS\n",
      "PREDICTED OFFSET: 0.0\n",
      "RESIDUAL: 0.0\n",
      "PERCENTAGE DIFFERENCE: nan\n",
      "\n",
      "\n",
      "OFFSET RECONSTRUCTION SUMMARY FOR TRACKING PLANE 5\n",
      "\n",
      "Y AXIS\n",
      "PREDICTED OFFSET: 0.0\n",
      "TRUE OFFSET: -0.0\n",
      "RESIDUAL: 0.0\n",
      "PERCENTAGE DIFFERENCE: nan\n",
      "\n",
      "Z AXIS\n",
      "PREDICTED OFFSET: 0.0\n",
      "RESIDUAL: 0.0\n",
      "PERCENTAGE DIFFERENCE: nan\n",
      "\n",
      "\n",
      "OFFSET RECONSTRUCTION SUMMARY FOR TRACKING PLANE 6\n",
      "\n",
      "Y AXIS\n",
      "PREDICTED OFFSET: 0.0\n",
      "TRUE OFFSET: -0.0\n",
      "RESIDUAL: 0.0\n",
      "PERCENTAGE DIFFERENCE: nan\n",
      "\n",
      "Z AXIS\n",
      "PREDICTED OFFSET: 0.0\n",
      "RESIDUAL: 0.0\n",
      "PERCENTAGE DIFFERENCE: nan\n",
      "\n",
      "\n",
      "OVERALL RECONSTRUCTION RESULTS\n",
      "SUM OF SQUARES: 2.7446728244966535e-05\n",
      "SUM OF TRUE SQUARES: 0.0025000000000000005\n",
      "MEAN PERCENTAGE DIFFERENCE: nan\n",
      "MEDIAN PERCENTAGE DIFFERENCE: nan\n"
     ]
    }
   ],
   "source": [
    "pred_offsets_y, pred_offsets_z = a.Analyse_Multiple_Runs(input_dir, n_samples, -offsets_y, offsets_z)"
   ]
  }
 ],
 "metadata": {
  "kernelspec": {
   "display_name": "mphys_env",
   "language": "python",
   "name": "python3"
  },
  "language_info": {
   "codemirror_mode": {
    "name": "ipython",
    "version": 3
   },
   "file_extension": ".py",
   "mimetype": "text/x-python",
   "name": "python",
   "nbconvert_exporter": "python",
   "pygments_lexer": "ipython3",
   "version": "3.8.10"
  }
 },
 "nbformat": 4,
 "nbformat_minor": 2
}
